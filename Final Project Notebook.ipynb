{
 "cells": [
  {
   "cell_type": "code",
   "execution_count": 2,
   "id": "a8e67ea3",
   "metadata": {},
   "outputs": [],
   "source": [
    "import pandas as pd\n",
    "import numpy as np\n",
    "import matplotlib.pyplot as plt\n",
    "from sklearn.impute import SimpleImputer # For filling the null values\n",
    "import seaborn as sns # For heatmaps of Spearman Correlation "
   ]
  },
  {
   "cell_type": "code",
   "execution_count": 3,
   "id": "e31450db",
   "metadata": {},
   "outputs": [],
   "source": [
    "df = pd.read_csv('./AFG E-Gov Barriers Data.csv')"
   ]
  },
  {
   "cell_type": "code",
   "execution_count": 3,
   "id": "e39fed1d",
   "metadata": {
    "scrolled": true
   },
   "outputs": [
    {
     "data": {
      "text/plain": [
       "Index(['NO', 'Gender', 'Age', 'Government Organization', 'Education',\n",
       "       'Position', 'St1', 'St2', 'St3', 'St4', 'St5', 'St6', 'TI1', 'TI2',\n",
       "       'TI3', 'TI4', 'TI5', 'TI6', 'TI7', 'TI8', 'TI9', 'PL1', 'PL2', 'PL3',\n",
       "       'PL4', 'PL5', 'OC1', 'OC2', 'OC3', 'OC4', 'OC5', 'OC6', 'OC7', 'OC8',\n",
       "       'OC9', 'OPC1', 'OPC2', 'OPC3'],\n",
       "      dtype='object')"
      ]
     },
     "execution_count": 3,
     "metadata": {},
     "output_type": "execute_result"
    }
   ],
   "source": [
    "df.columns"
   ]
  },
  {
   "cell_type": "markdown",
   "id": "817b9a99",
   "metadata": {},
   "source": [
    "<br>The dataset and survey questionnaire is grounded on a comprehensive literature review and\n",
    "the study of definitions. A final set of 32 items was designed\n",
    "for the questionnaire and organized according to the five\n",
    "major types of E-Gov barrier. In the interest of comprehension, the\n",
    "questionnaire was presented in both English and Dari, with a\n",
    "pilot study being deployed among 35 respondents to validate\n",
    "the clarity and comprehensibility of the survey questions.\n",
    "Respondents were also asked for their opinions on the degree\n",
    "to which the questionnaire items were explicit and the degree\n",
    "to which they were appropriate to determine the aspects for\n",
    "which they were intended. Furthermore, Correlation Analysis\n",
    "(Pearson) has been deployed as well, where we check If\n",
    "Sig. < 0,05 D valid, If Sig. > 0,05 D not valid and delete\n",
    "the survey items. In line with the answers of respondents to\n",
    "the pilot study, all survey items were validated and were thus\n",
    "retained for the final study. The resulting final questionnaire\n",
    "was separated into six sections: questions of demographics,\n",
    "barriers to strategy, policy and legal barriers, technological\n",
    "and IT infrastructure barriers, organizational and cultural barriers,\n",
    "and operational cost barriers of E-Gov implementation\n",
    "in Afghanistan.\n",
    "\n",
    "Each row, or sample, consists of the following variables:\n",
    "\n",
    "**The first section contains five demographic and profile characteristics:**\n",
    "* **Gender:** Gender of survey participant \n",
    "* **Age:** Age of survey participant\n",
    "* **Organization:** afliate organization (all were public sector government institutions)\n",
    "* **Education:** Survey participants level of education (e.g. Diploma, Bachelor, Master, PhD)\n",
    "* **Position:** Survey participant job title or position within the public sector organization\n",
    "\n",
    "**Strategy (St) Barriers to E-Gov in Afghanistan:**\n",
    "* **St1:** Absence of implementation guidance\n",
    "* **St2:** Unclear vision and management strategy\n",
    "* **St3:** Over-ambitious E-Gov milestones\n",
    "* **St4:** Lack of shared E-Gov goals and objectives\n",
    "* **St5:** Lack of ownership and governance\n",
    "* **St6:** Funding issues and centralization of funding for government agencies\n",
    "\n",
    "**Technological & IT infrastructure (TI) Barriers to E-Gov in Afghanistan:**\n",
    "* **TI1:** Lack of architecture interoperability and systems integration\n",
    "* **TI2:** Different security models\n",
    "* **TI3:** Inflexibility of legacy systems\n",
    "* **TI4:** Incompatible of technical and data standards\n",
    "* **TI5:** Privacy and security issues such as online theft and fraud\n",
    "* **TI6:** Shortage of reliable networks and low bandwidth\n",
    "* **TI7:** Inadequate security of government hardware and software\n",
    "* **TI8:** Unauthorized external and internal access to information system\n",
    "* **TI9:** Lack of open source software and standards\n",
    "\n",
    "**Policy & legal (PL) Barriers to E-Gov in Afghanistan:**\n",
    "* **PL1:** Lack of legal bases and comprehensive policy\n",
    "* **PL2:** Lack of security rules, policies and privacy law\n",
    "* **PL3:** Data ownership conflicts\n",
    "* **PL4:** Lack of political commitment and coordination\n",
    "* **PL5:** Digital divide\n",
    "\n",
    "**Organizational & cultural (OC) Barriers to E-Gov in Afghanistan:**\n",
    "* **OC1:** Lack of relevant in-house management and IT skills\n",
    "* **OC2:** Complexity of reengineering government processes and procedures\n",
    "* **OC3:** Lack of knowledge for security risks\n",
    "* **OC4:** Slow pace of government reform\n",
    "* **OC5:** Lack of agency readiness\n",
    "* **OC6:** Lack of cooperation and coordination between government agencies\n",
    "* **OC7:** Lack of effective leadership support\n",
    "* **OC8:** Pervasive corruption in government entities\n",
    "* **OC9:** Resistance to change\n",
    "\n",
    "**Operational Cost (OPC) Barriers to E-Gov in Afghanistan:**\n",
    "* **OPC1:** Cost of installation, operation and maintenance of E-Gov system\n",
    "* **OPC2:** Cost of training, IT professional and consultants\n",
    "* **OPC3:** Shortage of financial resources in public sector\n"
   ]
  },
  {
   "cell_type": "code",
   "execution_count": 4,
   "id": "36d43365",
   "metadata": {},
   "outputs": [
    {
     "data": {
      "text/html": [
       "<div>\n",
       "<style scoped>\n",
       "    .dataframe tbody tr th:only-of-type {\n",
       "        vertical-align: middle;\n",
       "    }\n",
       "\n",
       "    .dataframe tbody tr th {\n",
       "        vertical-align: top;\n",
       "    }\n",
       "\n",
       "    .dataframe thead th {\n",
       "        text-align: right;\n",
       "    }\n",
       "</style>\n",
       "<table border=\"1\" class=\"dataframe\">\n",
       "  <thead>\n",
       "    <tr style=\"text-align: right;\">\n",
       "      <th></th>\n",
       "      <th>NO</th>\n",
       "      <th>Gender</th>\n",
       "      <th>Age</th>\n",
       "      <th>Government Organization</th>\n",
       "      <th>Education</th>\n",
       "      <th>Position</th>\n",
       "      <th>St1</th>\n",
       "      <th>St2</th>\n",
       "      <th>St3</th>\n",
       "      <th>St4</th>\n",
       "      <th>...</th>\n",
       "      <th>OC3</th>\n",
       "      <th>OC4</th>\n",
       "      <th>OC5</th>\n",
       "      <th>OC6</th>\n",
       "      <th>OC7</th>\n",
       "      <th>OC8</th>\n",
       "      <th>OC9</th>\n",
       "      <th>OPC1</th>\n",
       "      <th>OPC2</th>\n",
       "      <th>OPC3</th>\n",
       "    </tr>\n",
       "  </thead>\n",
       "  <tbody>\n",
       "    <tr>\n",
       "      <th>0</th>\n",
       "      <td>1</td>\n",
       "      <td>Male</td>\n",
       "      <td>31-40</td>\n",
       "      <td>Ministry of Justice</td>\n",
       "      <td>N.A.</td>\n",
       "      <td>Director</td>\n",
       "      <td>5</td>\n",
       "      <td>5</td>\n",
       "      <td>5</td>\n",
       "      <td>4</td>\n",
       "      <td>...</td>\n",
       "      <td>5</td>\n",
       "      <td>4</td>\n",
       "      <td>4</td>\n",
       "      <td>2</td>\n",
       "      <td>3</td>\n",
       "      <td>1</td>\n",
       "      <td>4</td>\n",
       "      <td>5.0</td>\n",
       "      <td>3</td>\n",
       "      <td>4</td>\n",
       "    </tr>\n",
       "    <tr>\n",
       "      <th>1</th>\n",
       "      <td>2</td>\n",
       "      <td>Male</td>\n",
       "      <td>31-40</td>\n",
       "      <td>Ministry of Justice</td>\n",
       "      <td>Bachelor</td>\n",
       "      <td>Head of Supervision</td>\n",
       "      <td>5</td>\n",
       "      <td>4</td>\n",
       "      <td>4</td>\n",
       "      <td>4</td>\n",
       "      <td>...</td>\n",
       "      <td>3</td>\n",
       "      <td>3</td>\n",
       "      <td>5</td>\n",
       "      <td>4</td>\n",
       "      <td>5</td>\n",
       "      <td>2</td>\n",
       "      <td>2</td>\n",
       "      <td>5.0</td>\n",
       "      <td>4</td>\n",
       "      <td>5</td>\n",
       "    </tr>\n",
       "    <tr>\n",
       "      <th>2</th>\n",
       "      <td>3</td>\n",
       "      <td>Female</td>\n",
       "      <td>31-40</td>\n",
       "      <td>Ministry of Justice</td>\n",
       "      <td>Bachelor</td>\n",
       "      <td>Technical Expert</td>\n",
       "      <td>5</td>\n",
       "      <td>5</td>\n",
       "      <td>4</td>\n",
       "      <td>4</td>\n",
       "      <td>...</td>\n",
       "      <td>4</td>\n",
       "      <td>4</td>\n",
       "      <td>4</td>\n",
       "      <td>3</td>\n",
       "      <td>2</td>\n",
       "      <td>2</td>\n",
       "      <td>2</td>\n",
       "      <td>4.0</td>\n",
       "      <td>4</td>\n",
       "      <td>5</td>\n",
       "    </tr>\n",
       "    <tr>\n",
       "      <th>3</th>\n",
       "      <td>4</td>\n",
       "      <td>Female</td>\n",
       "      <td>32-41</td>\n",
       "      <td>Ministry of Justice</td>\n",
       "      <td>Bachelor</td>\n",
       "      <td>Officer of Human Rights</td>\n",
       "      <td>4</td>\n",
       "      <td>3</td>\n",
       "      <td>4</td>\n",
       "      <td>4</td>\n",
       "      <td>...</td>\n",
       "      <td>3</td>\n",
       "      <td>3</td>\n",
       "      <td>3</td>\n",
       "      <td>2</td>\n",
       "      <td>4</td>\n",
       "      <td>2</td>\n",
       "      <td>2</td>\n",
       "      <td>4.0</td>\n",
       "      <td>4</td>\n",
       "      <td>4</td>\n",
       "    </tr>\n",
       "    <tr>\n",
       "      <th>4</th>\n",
       "      <td>5</td>\n",
       "      <td>Female</td>\n",
       "      <td>N.A.</td>\n",
       "      <td>Ministry of Justice</td>\n",
       "      <td>Bachelor</td>\n",
       "      <td>Executive Director</td>\n",
       "      <td>4</td>\n",
       "      <td>3</td>\n",
       "      <td>2</td>\n",
       "      <td>4</td>\n",
       "      <td>...</td>\n",
       "      <td>4</td>\n",
       "      <td>3</td>\n",
       "      <td>4</td>\n",
       "      <td>N.A.</td>\n",
       "      <td>3</td>\n",
       "      <td>2</td>\n",
       "      <td>3</td>\n",
       "      <td>3.0</td>\n",
       "      <td>2</td>\n",
       "      <td>2</td>\n",
       "    </tr>\n",
       "    <tr>\n",
       "      <th>5</th>\n",
       "      <td>6</td>\n",
       "      <td>Male</td>\n",
       "      <td>21-30</td>\n",
       "      <td>Ministry of Justice</td>\n",
       "      <td>Master</td>\n",
       "      <td>Member of Civil Audit Directorate</td>\n",
       "      <td>4</td>\n",
       "      <td>2</td>\n",
       "      <td>4</td>\n",
       "      <td>4</td>\n",
       "      <td>...</td>\n",
       "      <td>4</td>\n",
       "      <td>4</td>\n",
       "      <td>3</td>\n",
       "      <td>2</td>\n",
       "      <td>4</td>\n",
       "      <td>4</td>\n",
       "      <td>1</td>\n",
       "      <td>3.0</td>\n",
       "      <td>5</td>\n",
       "      <td>5</td>\n",
       "    </tr>\n",
       "    <tr>\n",
       "      <th>6</th>\n",
       "      <td>7</td>\n",
       "      <td>Female</td>\n",
       "      <td>31-40</td>\n",
       "      <td>Ministry of Justice</td>\n",
       "      <td>PhD</td>\n",
       "      <td>Director</td>\n",
       "      <td>4</td>\n",
       "      <td>3</td>\n",
       "      <td>4</td>\n",
       "      <td>5</td>\n",
       "      <td>...</td>\n",
       "      <td>4</td>\n",
       "      <td>4</td>\n",
       "      <td>4</td>\n",
       "      <td>3</td>\n",
       "      <td>2</td>\n",
       "      <td>2</td>\n",
       "      <td>2</td>\n",
       "      <td>4.0</td>\n",
       "      <td>4</td>\n",
       "      <td>3</td>\n",
       "    </tr>\n",
       "    <tr>\n",
       "      <th>7</th>\n",
       "      <td>8</td>\n",
       "      <td>Female</td>\n",
       "      <td>31-40</td>\n",
       "      <td>Ministry of Justice</td>\n",
       "      <td>PhD</td>\n",
       "      <td>Member of Provincial Oversight</td>\n",
       "      <td>3</td>\n",
       "      <td>4</td>\n",
       "      <td>4</td>\n",
       "      <td>5</td>\n",
       "      <td>...</td>\n",
       "      <td>2</td>\n",
       "      <td>2</td>\n",
       "      <td>3</td>\n",
       "      <td>2</td>\n",
       "      <td>4</td>\n",
       "      <td>4</td>\n",
       "      <td>3</td>\n",
       "      <td>3.0</td>\n",
       "      <td>3</td>\n",
       "      <td>3</td>\n",
       "    </tr>\n",
       "    <tr>\n",
       "      <th>8</th>\n",
       "      <td>9</td>\n",
       "      <td>Male</td>\n",
       "      <td>31-40</td>\n",
       "      <td>Ministry of Justice</td>\n",
       "      <td>Bachelor</td>\n",
       "      <td>Member of Secretariat</td>\n",
       "      <td>4</td>\n",
       "      <td>3</td>\n",
       "      <td>3</td>\n",
       "      <td>4</td>\n",
       "      <td>...</td>\n",
       "      <td>3</td>\n",
       "      <td>4</td>\n",
       "      <td>3</td>\n",
       "      <td>4</td>\n",
       "      <td>3</td>\n",
       "      <td>2</td>\n",
       "      <td>2</td>\n",
       "      <td>2.0</td>\n",
       "      <td>2</td>\n",
       "      <td>2</td>\n",
       "    </tr>\n",
       "    <tr>\n",
       "      <th>9</th>\n",
       "      <td>10</td>\n",
       "      <td>Female</td>\n",
       "      <td>Above 41</td>\n",
       "      <td>Ministry of Justice</td>\n",
       "      <td>Bachelor</td>\n",
       "      <td>Member of Civil Right</td>\n",
       "      <td>4</td>\n",
       "      <td>1</td>\n",
       "      <td>2</td>\n",
       "      <td>4</td>\n",
       "      <td>...</td>\n",
       "      <td>3</td>\n",
       "      <td>3</td>\n",
       "      <td>3</td>\n",
       "      <td>3</td>\n",
       "      <td>3</td>\n",
       "      <td>3</td>\n",
       "      <td>3</td>\n",
       "      <td>2.0</td>\n",
       "      <td>2</td>\n",
       "      <td>2</td>\n",
       "    </tr>\n",
       "  </tbody>\n",
       "</table>\n",
       "<p>10 rows × 38 columns</p>\n",
       "</div>"
      ],
      "text/plain": [
       "   NO  Gender       Age Government Organization Education  \\\n",
       "0   1    Male     31-40     Ministry of Justice      N.A.   \n",
       "1   2    Male     31-40     Ministry of Justice  Bachelor   \n",
       "2   3  Female     31-40     Ministry of Justice  Bachelor   \n",
       "3   4  Female     32-41     Ministry of Justice  Bachelor   \n",
       "4   5  Female      N.A.     Ministry of Justice  Bachelor   \n",
       "5   6    Male     21-30     Ministry of Justice    Master   \n",
       "6   7  Female     31-40     Ministry of Justice       PhD   \n",
       "7   8  Female     31-40     Ministry of Justice       PhD   \n",
       "8   9    Male     31-40     Ministry of Justice  Bachelor   \n",
       "9  10  Female  Above 41     Ministry of Justice  Bachelor   \n",
       "\n",
       "                            Position St1 St2 St3 St4  ... OC3  OC4 OC5   OC6  \\\n",
       "0                           Director   5   5   5   4  ...   5    4   4     2   \n",
       "1                Head of Supervision   5   4   4   4  ...   3    3   5     4   \n",
       "2                   Technical Expert   5   5   4   4  ...   4    4   4     3   \n",
       "3            Officer of Human Rights   4   3   4   4  ...   3    3   3     2   \n",
       "4                 Executive Director   4   3   2   4  ...   4    3   4  N.A.   \n",
       "5  Member of Civil Audit Directorate   4   2   4   4  ...   4    4   3     2   \n",
       "6                           Director   4   3   4   5  ...   4    4   4     3   \n",
       "7     Member of Provincial Oversight   3   4   4   5  ...   2    2   3     2   \n",
       "8              Member of Secretariat   4   3   3   4  ...   3    4   3     4   \n",
       "9              Member of Civil Right   4   1   2   4  ...   3    3   3     3   \n",
       "\n",
       "  OC7 OC8 OC9  OPC1 OPC2  OPC3  \n",
       "0   3   1   4   5.0    3     4  \n",
       "1   5   2   2   5.0    4     5  \n",
       "2   2   2   2   4.0    4     5  \n",
       "3   4   2   2   4.0    4     4  \n",
       "4   3   2   3   3.0    2     2  \n",
       "5   4   4   1   3.0    5     5  \n",
       "6   2   2   2   4.0    4     3  \n",
       "7   4   4   3   3.0    3     3  \n",
       "8   3   2   2   2.0    2     2  \n",
       "9   3   3   3   2.0    2     2  \n",
       "\n",
       "[10 rows x 38 columns]"
      ]
     },
     "execution_count": 4,
     "metadata": {},
     "output_type": "execute_result"
    }
   ],
   "source": [
    "df.head(10)"
   ]
  },
  {
   "cell_type": "markdown",
   "id": "38e412c0",
   "metadata": {},
   "source": [
    "***Selecting the colunms relevant to the financial barriers of E-Government/public information system implemenation in Afghanistan.***\n",
    "\n",
    "**Operational Cost (OPC) Barriers to E-Gov in Afghanistan:**\n",
    "* **OPC1:** Cost of installation, operation and maintenance of E-Gov system\n",
    "* **OPC2:** Cost of training, IT professional and consultants\n",
    "* **OPC3:** Shortage of financial resources in public sector"
   ]
  },
  {
   "cell_type": "code",
   "execution_count": 5,
   "id": "d6db74a1",
   "metadata": {},
   "outputs": [],
   "source": [
    "#Selecting the colunms relevant to the financial barriers of \n",
    "#E-Government/public information system implemenation in Afghanistan.\n",
    "data = df[['OPC1','OPC2','OPC3']]"
   ]
  },
  {
   "cell_type": "code",
   "execution_count": 6,
   "id": "3eba44ca",
   "metadata": {},
   "outputs": [
    {
     "data": {
      "text/html": [
       "<div>\n",
       "<style scoped>\n",
       "    .dataframe tbody tr th:only-of-type {\n",
       "        vertical-align: middle;\n",
       "    }\n",
       "\n",
       "    .dataframe tbody tr th {\n",
       "        vertical-align: top;\n",
       "    }\n",
       "\n",
       "    .dataframe thead th {\n",
       "        text-align: right;\n",
       "    }\n",
       "</style>\n",
       "<table border=\"1\" class=\"dataframe\">\n",
       "  <thead>\n",
       "    <tr style=\"text-align: right;\">\n",
       "      <th></th>\n",
       "      <th>OPC1</th>\n",
       "      <th>OPC2</th>\n",
       "      <th>OPC3</th>\n",
       "    </tr>\n",
       "  </thead>\n",
       "  <tbody>\n",
       "    <tr>\n",
       "      <th>0</th>\n",
       "      <td>5.0</td>\n",
       "      <td>3</td>\n",
       "      <td>4</td>\n",
       "    </tr>\n",
       "    <tr>\n",
       "      <th>1</th>\n",
       "      <td>5.0</td>\n",
       "      <td>4</td>\n",
       "      <td>5</td>\n",
       "    </tr>\n",
       "    <tr>\n",
       "      <th>2</th>\n",
       "      <td>4.0</td>\n",
       "      <td>4</td>\n",
       "      <td>5</td>\n",
       "    </tr>\n",
       "    <tr>\n",
       "      <th>3</th>\n",
       "      <td>4.0</td>\n",
       "      <td>4</td>\n",
       "      <td>4</td>\n",
       "    </tr>\n",
       "    <tr>\n",
       "      <th>4</th>\n",
       "      <td>3.0</td>\n",
       "      <td>2</td>\n",
       "      <td>2</td>\n",
       "    </tr>\n",
       "  </tbody>\n",
       "</table>\n",
       "</div>"
      ],
      "text/plain": [
       "   OPC1  OPC2  OPC3\n",
       "0   5.0     3     4\n",
       "1   5.0     4     5\n",
       "2   4.0     4     5\n",
       "3   4.0     4     4\n",
       "4   3.0     2     2"
      ]
     },
     "execution_count": 6,
     "metadata": {},
     "output_type": "execute_result"
    }
   ],
   "source": [
    "data.head()"
   ]
  },
  {
   "cell_type": "code",
   "execution_count": 7,
   "id": "84398672",
   "metadata": {},
   "outputs": [],
   "source": [
    "#finding null values within the relevant colunms of our dataset."
   ]
  },
  {
   "cell_type": "code",
   "execution_count": 8,
   "id": "c3199e46",
   "metadata": {},
   "outputs": [],
   "source": [
    "bool_series_OPC1 = pd.isnull(data[\"OPC1\"])"
   ]
  },
  {
   "cell_type": "code",
   "execution_count": 9,
   "id": "9930384a",
   "metadata": {},
   "outputs": [
    {
     "data": {
      "text/html": [
       "<div>\n",
       "<style scoped>\n",
       "    .dataframe tbody tr th:only-of-type {\n",
       "        vertical-align: middle;\n",
       "    }\n",
       "\n",
       "    .dataframe tbody tr th {\n",
       "        vertical-align: top;\n",
       "    }\n",
       "\n",
       "    .dataframe thead th {\n",
       "        text-align: right;\n",
       "    }\n",
       "</style>\n",
       "<table border=\"1\" class=\"dataframe\">\n",
       "  <thead>\n",
       "    <tr style=\"text-align: right;\">\n",
       "      <th></th>\n",
       "      <th>OPC1</th>\n",
       "      <th>OPC2</th>\n",
       "      <th>OPC3</th>\n",
       "    </tr>\n",
       "  </thead>\n",
       "  <tbody>\n",
       "    <tr>\n",
       "      <th>108</th>\n",
       "      <td>NaN</td>\n",
       "      <td>1</td>\n",
       "      <td>1</td>\n",
       "    </tr>\n",
       "    <tr>\n",
       "      <th>235</th>\n",
       "      <td>NaN</td>\n",
       "      <td>4</td>\n",
       "      <td>5</td>\n",
       "    </tr>\n",
       "    <tr>\n",
       "      <th>378</th>\n",
       "      <td>NaN</td>\n",
       "      <td>5</td>\n",
       "      <td>3</td>\n",
       "    </tr>\n",
       "  </tbody>\n",
       "</table>\n",
       "</div>"
      ],
      "text/plain": [
       "     OPC1  OPC2  OPC3\n",
       "108   NaN     1     1\n",
       "235   NaN     4     5\n",
       "378   NaN     5     3"
      ]
     },
     "execution_count": 9,
     "metadata": {},
     "output_type": "execute_result"
    }
   ],
   "source": [
    "data[bool_series_OPC1]"
   ]
  },
  {
   "cell_type": "code",
   "execution_count": 10,
   "id": "d513ddfd",
   "metadata": {},
   "outputs": [],
   "source": [
    "bool_series_OPC2 = pd.isnull(data[\"OPC2\"])"
   ]
  },
  {
   "cell_type": "code",
   "execution_count": 11,
   "id": "4374b118",
   "metadata": {},
   "outputs": [
    {
     "data": {
      "text/html": [
       "<div>\n",
       "<style scoped>\n",
       "    .dataframe tbody tr th:only-of-type {\n",
       "        vertical-align: middle;\n",
       "    }\n",
       "\n",
       "    .dataframe tbody tr th {\n",
       "        vertical-align: top;\n",
       "    }\n",
       "\n",
       "    .dataframe thead th {\n",
       "        text-align: right;\n",
       "    }\n",
       "</style>\n",
       "<table border=\"1\" class=\"dataframe\">\n",
       "  <thead>\n",
       "    <tr style=\"text-align: right;\">\n",
       "      <th></th>\n",
       "      <th>OPC1</th>\n",
       "      <th>OPC2</th>\n",
       "      <th>OPC3</th>\n",
       "    </tr>\n",
       "  </thead>\n",
       "  <tbody>\n",
       "  </tbody>\n",
       "</table>\n",
       "</div>"
      ],
      "text/plain": [
       "Empty DataFrame\n",
       "Columns: [OPC1, OPC2, OPC3]\n",
       "Index: []"
      ]
     },
     "execution_count": 11,
     "metadata": {},
     "output_type": "execute_result"
    }
   ],
   "source": [
    "data[bool_series_OPC2]"
   ]
  },
  {
   "cell_type": "code",
   "execution_count": 12,
   "id": "d8b85fc5",
   "metadata": {},
   "outputs": [],
   "source": [
    "bool_series_OPC3 = pd.isnull(data[\"OPC3\"])"
   ]
  },
  {
   "cell_type": "code",
   "execution_count": 13,
   "id": "1f73f378",
   "metadata": {},
   "outputs": [
    {
     "data": {
      "text/html": [
       "<div>\n",
       "<style scoped>\n",
       "    .dataframe tbody tr th:only-of-type {\n",
       "        vertical-align: middle;\n",
       "    }\n",
       "\n",
       "    .dataframe tbody tr th {\n",
       "        vertical-align: top;\n",
       "    }\n",
       "\n",
       "    .dataframe thead th {\n",
       "        text-align: right;\n",
       "    }\n",
       "</style>\n",
       "<table border=\"1\" class=\"dataframe\">\n",
       "  <thead>\n",
       "    <tr style=\"text-align: right;\">\n",
       "      <th></th>\n",
       "      <th>OPC1</th>\n",
       "      <th>OPC2</th>\n",
       "      <th>OPC3</th>\n",
       "    </tr>\n",
       "  </thead>\n",
       "  <tbody>\n",
       "  </tbody>\n",
       "</table>\n",
       "</div>"
      ],
      "text/plain": [
       "Empty DataFrame\n",
       "Columns: [OPC1, OPC2, OPC3]\n",
       "Index: []"
      ]
     },
     "execution_count": 13,
     "metadata": {},
     "output_type": "execute_result"
    }
   ],
   "source": [
    "data[bool_series_OPC3]"
   ]
  },
  {
   "cell_type": "markdown",
   "id": "b3bc9acb",
   "metadata": {},
   "source": [
    "To avoid underestimation of individual scores, the missing values have been handled through item mean substitution (IMS). IMS is an effective representation of the original data if the missing values are equal to or less than 20%, which makes it the ideal imputation technique for our dataset, and clearly based on the above boolean series, missing values are below 12%.\n",
    "\n",
    "To fill the null values with mean of each colunms scikit learn's library SimpleImputer object has been used."
   ]
  },
  {
   "cell_type": "code",
   "execution_count": 14,
   "id": "0e844dcc",
   "metadata": {},
   "outputs": [
    {
     "name": "stderr",
     "output_type": "stream",
     "text": [
      "/var/folders/88/vlrz89sn15jdmcdgfjsnyvjw0000gn/T/ipykernel_85806/2067552833.py:14: SettingWithCopyWarning: \n",
      "A value is trying to be set on a copy of a slice from a DataFrame.\n",
      "Try using .loc[row_indexer,col_indexer] = value instead\n",
      "\n",
      "See the caveats in the documentation: https://pandas.pydata.org/pandas-docs/stable/user_guide/indexing.html#returning-a-view-versus-a-copy\n",
      "  data['OPC1'] = imputer.transform(data[['OPC1']])\n"
     ]
    }
   ],
   "source": [
    "#we first initialize an instance of the SimpleImputer class by indicating the strategy \n",
    "#(mean) as well as specifying the missing values that you want to locate (np.nan).\n",
    "\n",
    "imputer = SimpleImputer(strategy='mean', missing_values=np.nan)\n",
    "\n",
    "#Once the instance is created, you use the fit() function to fit the imputer on the column(s) that \n",
    "#we want to work on.\n",
    "\n",
    "imputer = imputer.fit(data[['OPC1']])\n",
    "\n",
    "#now we use the transform() function to fill the missing values based on the \n",
    "#strategy you specified in the initializer of the SimpleImputer class.\n",
    "\n",
    "data['OPC1'] = imputer.transform(data[['OPC1']])"
   ]
  },
  {
   "cell_type": "code",
   "execution_count": 15,
   "id": "283f5889",
   "metadata": {},
   "outputs": [
    {
     "data": {
      "text/plain": [
       "OPC1    False\n",
       "OPC2    False\n",
       "OPC3    False\n",
       "dtype: bool"
      ]
     },
     "execution_count": 15,
     "metadata": {},
     "output_type": "execute_result"
    }
   ],
   "source": [
    "#Making sure that our data doesn't contain any null values:\n",
    "data.isnull().any()"
   ]
  },
  {
   "cell_type": "markdown",
   "id": "3fe055e7",
   "metadata": {},
   "source": [
    "Now to avoid the confusion since we are working with likerat scale variables, we will convert all colunms \n",
    "from float and int to only integar (int) data type:"
   ]
  },
  {
   "cell_type": "code",
   "execution_count": 16,
   "id": "3f78c633",
   "metadata": {},
   "outputs": [],
   "source": [
    "data = data.astype(int)"
   ]
  },
  {
   "cell_type": "code",
   "execution_count": 17,
   "id": "2a482445",
   "metadata": {
    "scrolled": true
   },
   "outputs": [
    {
     "data": {
      "text/html": [
       "<div>\n",
       "<style scoped>\n",
       "    .dataframe tbody tr th:only-of-type {\n",
       "        vertical-align: middle;\n",
       "    }\n",
       "\n",
       "    .dataframe tbody tr th {\n",
       "        vertical-align: top;\n",
       "    }\n",
       "\n",
       "    .dataframe thead th {\n",
       "        text-align: right;\n",
       "    }\n",
       "</style>\n",
       "<table border=\"1\" class=\"dataframe\">\n",
       "  <thead>\n",
       "    <tr style=\"text-align: right;\">\n",
       "      <th></th>\n",
       "      <th>OPC1</th>\n",
       "      <th>OPC2</th>\n",
       "      <th>OPC3</th>\n",
       "    </tr>\n",
       "  </thead>\n",
       "  <tbody>\n",
       "    <tr>\n",
       "      <th>0</th>\n",
       "      <td>5</td>\n",
       "      <td>3</td>\n",
       "      <td>4</td>\n",
       "    </tr>\n",
       "    <tr>\n",
       "      <th>1</th>\n",
       "      <td>5</td>\n",
       "      <td>4</td>\n",
       "      <td>5</td>\n",
       "    </tr>\n",
       "    <tr>\n",
       "      <th>2</th>\n",
       "      <td>4</td>\n",
       "      <td>4</td>\n",
       "      <td>5</td>\n",
       "    </tr>\n",
       "    <tr>\n",
       "      <th>3</th>\n",
       "      <td>4</td>\n",
       "      <td>4</td>\n",
       "      <td>4</td>\n",
       "    </tr>\n",
       "    <tr>\n",
       "      <th>4</th>\n",
       "      <td>3</td>\n",
       "      <td>2</td>\n",
       "      <td>2</td>\n",
       "    </tr>\n",
       "  </tbody>\n",
       "</table>\n",
       "</div>"
      ],
      "text/plain": [
       "   OPC1  OPC2  OPC3\n",
       "0     5     3     4\n",
       "1     5     4     5\n",
       "2     4     4     5\n",
       "3     4     4     4\n",
       "4     3     2     2"
      ]
     },
     "execution_count": 17,
     "metadata": {},
     "output_type": "execute_result"
    }
   ],
   "source": [
    "data.head()"
   ]
  },
  {
   "cell_type": "markdown",
   "id": "77216bd3",
   "metadata": {},
   "source": [
    "It's Worth Mentioning that, The survey instrument of the current data was developed using items adopted from\n",
    "previous studies mainly from 'IS success model'. \n",
    "\n",
    "**Hence, the participants were asked to indicate how frequently each statement fits them using 5-Point Likert Scale, wherein 1 indicates Strongly Disagree, 2 Disagree, 3 Normal, 4 Agree, with 5 indicating Strongly Agree.**"
   ]
  },
  {
   "cell_type": "markdown",
   "id": "b3d20c0a",
   "metadata": {},
   "source": [
    "Participant's frequency of responses on the quesiton: St6 / Funding issues and centralization of funding for government agencies, as strategy barrier to E-Gov in Afghanistan.\n",
    "\n",
    "**(5) Strongly Agree = 90** **/** \n",
    "**(4) Agree = 116** **/**\n",
    "**(3) Normal = 106** **/**\n",
    "**(2) Disagree =   59** **/**\n",
    "**(1) Strongly Disagree = 16** "
   ]
  },
  {
   "cell_type": "code",
   "execution_count": 18,
   "id": "1ba72b4d",
   "metadata": {},
   "outputs": [
    {
     "data": {
      "text/html": [
       "<div>\n",
       "<style scoped>\n",
       "    .dataframe tbody tr th:only-of-type {\n",
       "        vertical-align: middle;\n",
       "    }\n",
       "\n",
       "    .dataframe tbody tr th {\n",
       "        vertical-align: top;\n",
       "    }\n",
       "\n",
       "    .dataframe thead th {\n",
       "        text-align: right;\n",
       "    }\n",
       "</style>\n",
       "<table border=\"1\" class=\"dataframe\">\n",
       "  <thead>\n",
       "    <tr style=\"text-align: right;\">\n",
       "      <th></th>\n",
       "      <th>OPC1</th>\n",
       "    </tr>\n",
       "  </thead>\n",
       "  <tbody>\n",
       "    <tr>\n",
       "      <th>3</th>\n",
       "      <td>146</td>\n",
       "    </tr>\n",
       "    <tr>\n",
       "      <th>4</th>\n",
       "      <td>100</td>\n",
       "    </tr>\n",
       "    <tr>\n",
       "      <th>2</th>\n",
       "      <td>67</td>\n",
       "    </tr>\n",
       "    <tr>\n",
       "      <th>5</th>\n",
       "      <td>38</td>\n",
       "    </tr>\n",
       "    <tr>\n",
       "      <th>1</th>\n",
       "      <td>36</td>\n",
       "    </tr>\n",
       "  </tbody>\n",
       "</table>\n",
       "</div>"
      ],
      "text/plain": [
       "   OPC1\n",
       "3   146\n",
       "4   100\n",
       "2    67\n",
       "5    38\n",
       "1    36"
      ]
     },
     "execution_count": 18,
     "metadata": {},
     "output_type": "execute_result"
    }
   ],
   "source": [
    "OPC1_data = data['OPC1'].value_counts()\n",
    "df_OPC1 = pd.DataFrame(OPC1_data)\n",
    "df_OPC1.head()"
   ]
  },
  {
   "cell_type": "markdown",
   "id": "011f74ae",
   "metadata": {},
   "source": [
    "Participant's frequency of responses on the quesiton: OPC1 / Cost of installation, operation and maintenance of E-Gov system, as an operational cost barrier to E-Gov in Afghanistan.\n",
    "\n",
    "**(5) Strongly Agree = 38** **/** \n",
    "**(4) Agree = 100** **/**\n",
    "**(3) Normal = 146** **/**\n",
    "**(2) Disagree = 67** **/**\n",
    "**(1) Strongly Disagree = 36** "
   ]
  },
  {
   "cell_type": "code",
   "execution_count": 19,
   "id": "5f3a2439",
   "metadata": {},
   "outputs": [
    {
     "data": {
      "image/png": "[encoded data removed]",
      "text/plain": [
       "<Figure size 432x288 with 1 Axes>"
      ]
     },
     "metadata": {
      "needs_background": "light"
     },
     "output_type": "display_data"
    }
   ],
   "source": [
    "x=['Strongly Agree (5)','Agree (4)','Normal (3)','Disagree (2)','Strongly Disagree (1)']\n",
    "y=[38,100,146,67,36]\n",
    "\n",
    "fig, ax = plt.subplots()\n",
    "# Set default figure size.\n",
    "plt.rcParams['figure.figsize'] = (8, 5)\n",
    "\n",
    "\n",
    "\n",
    "bars = plt.bar(x,y,color=['#F8B195', '#F67280', '#C06C84', '#6C5B7B', '#355C7D'])\n",
    "\n",
    "#plt.xticks(rotation=0)\n",
    "\n",
    "\n",
    "# Here we remove the top, right and left spines (figure borders)\n",
    "# which really aren't necessary for a bar chart, except for bottom\n",
    "ax.spines['top'].set_visible(False)\n",
    "ax.spines['right'].set_visible(False)\n",
    "ax.spines['left'].set_visible(False)\n",
    "ax.spines['bottom'].set_visible(True)\n",
    "#---------------------------------------\n",
    "# Second, remove the ticks as well.\n",
    "ax.tick_params(bottom=False, left=False)\n",
    "#---------------------------------------\n",
    "# Third, add a horizontal grid (but keep the vertical grid hidden).\n",
    "# Color the lines a light gray as well.\n",
    "ax.set_axisbelow(True)\n",
    "ax.yaxis.grid(True, color='#EEEEEE')\n",
    "ax.xaxis.grid(False)\n",
    "#------------------------------------\n",
    "# Add text annotations to the top of the bars.\n",
    "# Note, you'll have to adjust this slightly (the 0.3)\n",
    "# with different data.\n",
    "for bar in bars:\n",
    "  ax.text(\n",
    "      bar.get_x() + bar.get_width() / 2,\n",
    "      bar.get_height() + 0.3,\n",
    "      round(bar.get_height(), 1),\n",
    "      horizontalalignment='center',\n",
    "      weight='bold'\n",
    "  )\n",
    "\n",
    "# Add labels and a title. Note the use of `labelpad` and `pad` to add some\n",
    "# extra space between the text and the tick labels.\n",
    "ax.set_xlabel('Likert Scale', labelpad=15, color='#333333')\n",
    "ax.set_ylabel('Values', labelpad=15, color='#333333')\n",
    "ax.set_title('OPC1 - Cost of installation, operation and maintenance of E-Gov system', pad=15, color='#333333',\n",
    "             weight='bold')\n",
    "\n",
    "\n",
    "fig.tight_layout()"
   ]
  },
  {
   "cell_type": "code",
   "execution_count": 20,
   "id": "71ded3fc",
   "metadata": {},
   "outputs": [
    {
     "data": {
      "text/html": [
       "<div>\n",
       "<style scoped>\n",
       "    .dataframe tbody tr th:only-of-type {\n",
       "        vertical-align: middle;\n",
       "    }\n",
       "\n",
       "    .dataframe tbody tr th {\n",
       "        vertical-align: top;\n",
       "    }\n",
       "\n",
       "    .dataframe thead th {\n",
       "        text-align: right;\n",
       "    }\n",
       "</style>\n",
       "<table border=\"1\" class=\"dataframe\">\n",
       "  <thead>\n",
       "    <tr style=\"text-align: right;\">\n",
       "      <th></th>\n",
       "      <th>OPC2</th>\n",
       "    </tr>\n",
       "  </thead>\n",
       "  <tbody>\n",
       "    <tr>\n",
       "      <th>3</th>\n",
       "      <td>116</td>\n",
       "    </tr>\n",
       "    <tr>\n",
       "      <th>4</th>\n",
       "      <td>97</td>\n",
       "    </tr>\n",
       "    <tr>\n",
       "      <th>2</th>\n",
       "      <td>80</td>\n",
       "    </tr>\n",
       "    <tr>\n",
       "      <th>5</th>\n",
       "      <td>47</td>\n",
       "    </tr>\n",
       "    <tr>\n",
       "      <th>1</th>\n",
       "      <td>47</td>\n",
       "    </tr>\n",
       "  </tbody>\n",
       "</table>\n",
       "</div>"
      ],
      "text/plain": [
       "   OPC2\n",
       "3   116\n",
       "4    97\n",
       "2    80\n",
       "5    47\n",
       "1    47"
      ]
     },
     "execution_count": 20,
     "metadata": {},
     "output_type": "execute_result"
    }
   ],
   "source": [
    "OPC2_data = data['OPC2'].value_counts()\n",
    "df_OPC2 = pd.DataFrame(OPC2_data)\n",
    "df_OPC2.head()"
   ]
  },
  {
   "cell_type": "markdown",
   "id": "a824d4d6",
   "metadata": {},
   "source": [
    "Participant's frequency of responses on the quesiton: OPC2 / Cost of training, IT professional and consultants of E-Gov system as an operational cost barrier to E-Gov in Afghanistan.\n",
    "\n",
    "**(5) Strongly Agree = 47** **/** \n",
    "**(4) Agree = 97** **/**\n",
    "**(3) Normal = 116** **/**\n",
    "**(2) Disagree = 47** **/**\n",
    "**(1) Strongly Disagree = 47** "
   ]
  },
  {
   "cell_type": "code",
   "execution_count": 21,
   "id": "b0496f91",
   "metadata": {},
   "outputs": [
    {
     "data": {
      "image/png": "[encoded data removed]",
      "text/plain": [
       "<Figure size 576x360 with 1 Axes>"
      ]
     },
     "metadata": {
      "needs_background": "light"
     },
     "output_type": "display_data"
    }
   ],
   "source": [
    "x=['Strongly Agree (5)','Agree (4)','Normal (3)','Disagree (2)','Strongly Disagree (1)']\n",
    "y=[47,97,116,47,47]\n",
    "\n",
    "fig, ax = plt.subplots()\n",
    "# Set default figure size.\n",
    "plt.rcParams['figure.figsize'] = (8, 5)\n",
    "\n",
    "\n",
    "\n",
    "bars = plt.bar(x,y,color=['#F8B195', '#F67280', '#C06C84', '#6C5B7B', '#355C7D'])\n",
    "\n",
    "#plt.xticks(rotation=0)\n",
    "\n",
    "\n",
    "# Here we remove the top, right and left spines (figure borders)\n",
    "# which really aren't necessary for a bar chart, except for bottom\n",
    "ax.spines['top'].set_visible(False)\n",
    "ax.spines['right'].set_visible(False)\n",
    "ax.spines['left'].set_visible(False)\n",
    "ax.spines['bottom'].set_visible(True)\n",
    "#---------------------------------------\n",
    "# Second, remove the ticks as well.\n",
    "ax.tick_params(bottom=False, left=False)\n",
    "#---------------------------------------\n",
    "# Third, add a horizontal grid (but keep the vertical grid hidden).\n",
    "# Color the lines a light gray as well.\n",
    "ax.set_axisbelow(True)\n",
    "ax.yaxis.grid(True, color='#EEEEEE')\n",
    "ax.xaxis.grid(False)\n",
    "#------------------------------------\n",
    "# Add text annotations to the top of the bars.\n",
    "# Note, you'll have to adjust this slightly (the 0.3)\n",
    "# with different data.\n",
    "for bar in bars:\n",
    "  ax.text(\n",
    "      bar.get_x() + bar.get_width() / 2,\n",
    "      bar.get_height() + 0.3,\n",
    "      round(bar.get_height(), 1),\n",
    "      horizontalalignment='center',\n",
    "      weight='bold'\n",
    "  )\n",
    "\n",
    "# Add labels and a title. Note the use of `labelpad` and `pad` to add some\n",
    "# extra space between the text and the tick labels.\n",
    "ax.set_xlabel('Likert Scale', labelpad=15, color='#333333')\n",
    "ax.set_ylabel('Values', labelpad=15, color='#333333')\n",
    "ax.set_title('OPC2 - Cost of training, IT professional and consultants of E-Gov system', pad=15, color='#333333',\n",
    "             weight='bold')\n",
    "\n",
    "\n",
    "fig.tight_layout()"
   ]
  },
  {
   "cell_type": "code",
   "execution_count": 22,
   "id": "11e1e192",
   "metadata": {},
   "outputs": [
    {
     "data": {
      "text/html": [
       "<div>\n",
       "<style scoped>\n",
       "    .dataframe tbody tr th:only-of-type {\n",
       "        vertical-align: middle;\n",
       "    }\n",
       "\n",
       "    .dataframe tbody tr th {\n",
       "        vertical-align: top;\n",
       "    }\n",
       "\n",
       "    .dataframe thead th {\n",
       "        text-align: right;\n",
       "    }\n",
       "</style>\n",
       "<table border=\"1\" class=\"dataframe\">\n",
       "  <thead>\n",
       "    <tr style=\"text-align: right;\">\n",
       "      <th></th>\n",
       "      <th>OPC3</th>\n",
       "    </tr>\n",
       "  </thead>\n",
       "  <tbody>\n",
       "    <tr>\n",
       "      <th>3</th>\n",
       "      <td>112</td>\n",
       "    </tr>\n",
       "    <tr>\n",
       "      <th>2</th>\n",
       "      <td>75</td>\n",
       "    </tr>\n",
       "    <tr>\n",
       "      <th>4</th>\n",
       "      <td>72</td>\n",
       "    </tr>\n",
       "    <tr>\n",
       "      <th>5</th>\n",
       "      <td>65</td>\n",
       "    </tr>\n",
       "    <tr>\n",
       "      <th>1</th>\n",
       "      <td>63</td>\n",
       "    </tr>\n",
       "  </tbody>\n",
       "</table>\n",
       "</div>"
      ],
      "text/plain": [
       "   OPC3\n",
       "3   112\n",
       "2    75\n",
       "4    72\n",
       "5    65\n",
       "1    63"
      ]
     },
     "execution_count": 22,
     "metadata": {},
     "output_type": "execute_result"
    }
   ],
   "source": [
    "OPC3_data = data['OPC3'].value_counts()\n",
    "df_OPC3 = pd.DataFrame(OPC3_data)\n",
    "df_OPC3.head()"
   ]
  },
  {
   "cell_type": "markdown",
   "id": "08e5645b",
   "metadata": {},
   "source": [
    "Participant's frequency of responses on the quesiton: OPC3 / Shortage of financial resources in public sector for E-Gov systems as an operational cost barrier to E-Gov in Afghanistan.\n",
    "\n",
    "**(5) Strongly Agree = 65** **/** \n",
    "**(4) Agree = 72** **/**\n",
    "**(3) Normal = 112** **/**\n",
    "**(2) Disagree = 75** **/**\n",
    "**(1) Strongly Disagree = 63** "
   ]
  },
  {
   "cell_type": "code",
   "execution_count": 23,
   "id": "d55d838d",
   "metadata": {},
   "outputs": [
    {
     "data": {
      "image/png": "[encoded data removed]",
      "text/plain": [
       "<Figure size 576x360 with 1 Axes>"
      ]
     },
     "metadata": {
      "needs_background": "light"
     },
     "output_type": "display_data"
    }
   ],
   "source": [
    "x=['Strongly Agree (5)','Agree (4)','Normal (3)','Disagree (2)','Strongly Disagree (1)']\n",
    "y=[65,72,112,75,63]\n",
    "\n",
    "fig, ax = plt.subplots()\n",
    "# Set default figure size.\n",
    "plt.rcParams['figure.figsize'] = (8, 5)\n",
    "\n",
    "\n",
    "\n",
    "bars = plt.bar(x,y,color=['#F8B195', '#F67280', '#C06C84', '#6C5B7B', '#355C7D'])\n",
    "\n",
    "#plt.xticks(rotation=0)\n",
    "\n",
    "\n",
    "# Here we remove the top, right and left spines (figure borders)\n",
    "# which really aren't necessary for a bar chart, except for bottom\n",
    "ax.spines['top'].set_visible(False)\n",
    "ax.spines['right'].set_visible(False)\n",
    "ax.spines['left'].set_visible(False)\n",
    "ax.spines['bottom'].set_visible(True)\n",
    "#---------------------------------------\n",
    "# Second, remove the ticks as well.\n",
    "ax.tick_params(bottom=False, left=False)\n",
    "#---------------------------------------\n",
    "# Third, add a horizontal grid (but keep the vertical grid hidden).\n",
    "# Color the lines a light gray as well.\n",
    "ax.set_axisbelow(True)\n",
    "ax.yaxis.grid(True, color='#EEEEEE')\n",
    "ax.xaxis.grid(False)\n",
    "#------------------------------------\n",
    "# Add text annotations to the top of the bars.\n",
    "# Note, you'll have to adjust this slightly (the 0.3)\n",
    "# with different data.\n",
    "for bar in bars:\n",
    "  ax.text(\n",
    "      bar.get_x() + bar.get_width() / 2,\n",
    "      bar.get_height() + 0.3,\n",
    "      round(bar.get_height(), 1),\n",
    "      horizontalalignment='center',\n",
    "      weight='bold'\n",
    "  )\n",
    "\n",
    "# Add labels and a title. Note the use of `labelpad` and `pad` to add some\n",
    "# extra space between the text and the tick labels.\n",
    "ax.set_xlabel('Likert Scale', labelpad=15, color='#333333')\n",
    "ax.set_ylabel('Values', labelpad=15, color='#333333')\n",
    "ax.set_title('OPC3 - Shortage of financial resources in public sector for E-Gov systems', pad=15, color='#333333',\n",
    "             weight='bold')\n",
    "\n",
    "\n",
    "fig.tight_layout()"
   ]
  },
  {
   "cell_type": "code",
   "execution_count": 24,
   "id": "493aab82",
   "metadata": {},
   "outputs": [],
   "source": [
    "#For statistical analysis here we will use the Spearman Rank Correlation to find the relationship between\n",
    "#the variables of the dataset, or in simple term between the answers of the survey respondents."
   ]
  },
  {
   "cell_type": "code",
   "execution_count": 25,
   "id": "dd0d9616",
   "metadata": {},
   "outputs": [
    {
     "name": "stdout",
     "output_type": "stream",
     "text": [
      "          OPC1      OPC2      OPC3\n",
      "OPC1  1.000000  0.626577  0.571430\n",
      "OPC2  0.626577  1.000000  0.649727\n",
      "OPC3  0.571430  0.649727  1.000000\n"
     ]
    }
   ],
   "source": [
    "Data_Cor = data.corr(method=\"spearman\")\n",
    "print(Data_Cor)"
   ]
  },
  {
   "cell_type": "code",
   "execution_count": 27,
   "id": "ba62985f",
   "metadata": {
    "scrolled": true
   },
   "outputs": [
    {
     "data": {
      "text/plain": [
       "Text(0.5, 1.0, 'Spearman Correlation Analysis Heatmap')"
      ]
     },
     "execution_count": 27,
     "metadata": {},
     "output_type": "execute_result"
    },
    {
     "data": {
      "image/png": "[encoded data removed]",
      "text/plain": [
       "<Figure size 720x432 with 2 Axes>"
      ]
     },
     "metadata": {
      "needs_background": "light"
     },
     "output_type": "display_data"
    }
   ],
   "source": [
    "plt.figure(figsize=(10,6))\n",
    "sns.heatmap(Data_Cor, vmin=-1,vmax=1, annot=True)\n",
    "plt.title(\"Spearman Correlation Analysis Heatmap\")"
   ]
  },
  {
   "cell_type": "code",
   "execution_count": null,
   "id": "0007b61b",
   "metadata": {},
   "outputs": [],
   "source": []
  }
 ],
 "metadata": {
  "kernelspec": {
   "display_name": "Python 3 (ipykernel)",
   "language": "python",
   "name": "python3"
  },
  "language_info": {
   "codemirror_mode": {
    "name": "ipython",
    "version": 3
   },
   "file_extension": ".py",
   "mimetype": "text/x-python",
   "name": "python",
   "nbconvert_exporter": "python",
   "pygments_lexer": "ipython3",
   "version": "3.9.12"
  }
 },
 "nbformat": 4,
 "nbformat_minor": 5
}
